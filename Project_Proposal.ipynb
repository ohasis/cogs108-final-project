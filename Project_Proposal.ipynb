{
 "cells": [
  {
   "cell_type": "markdown",
   "metadata": {},
   "source": [
    "# COGS 108 - Project Proposal"
   ]
  },
  {
   "cell_type": "markdown",
   "metadata": {},
   "source": [
    "# Timeline"
   ]
  },
  {
   "cell_type": "markdown",
   "metadata": {},
   "source": [
    "| Meeting Date  | Meeting Time| Completed Before Meeting  | Discuss at Meeting |\n",
    "|---|---|---|---|\n",
    "| 11/1  |  5 PM | Read & Consider COGS 108 Expectations; Brainstorm Topics & Questions  | Determine Best Form of Communication; Discuss & Decide on Project Topic; Discuss Hypothesis; Begin Background Research | \n",
    "| 11/1  |  5 PM |  Do Background Research on Topic | Discuss Ideal Dataset(s) & Ethics; Draft Project Proposal | \n",
    "| 11/1  | 5 PM  | Edit, Finalize, & Submit Proposal; Search for Datasets  | Discuss Wrangling & Possible Analytical Approaches; Assign Group Members to Lead Each Part   |\n",
    "| 11/8  | 5 PM  | Import & Wrangle Data (Anish); EDA (Artemis) | Review & Edit Wrangling/EDA; Discuss Analysis Plan   |\n",
    "| 11/29  | 5 PM  | Finalize Wrangling/EDA; Begin Analysis (Ethan & Dayoung) | Discuss & Edit Analysis; Complete Project Check-In |\n",
    "| 12/6  | 5 PM  | Complete Analysis; Draft Results, Conclusion, & Discussion (Pranav)| Discuss & Edit Full Project |\n",
    "| 12/13  | Before 11:59 PM  | N/A | Turn in Final Project & Group Project Surveys |"
   ]
  },
  {
   "cell_type": "markdown",
   "metadata": {},
   "source": [
    "# Names\n",
    "\n",
    "- Anish Devineni\n",
    "- Ethan Heffernan\n",
    "- Dayoung Ki\n",
    "- Artemis Lopez\n",
    "- Pranav Nair\n"
   ]
  },
  {
   "cell_type": "markdown",
   "metadata": {},
   "source": [
    "# Research Question"
   ]
  },
  {
   "cell_type": "markdown",
   "metadata": {},
   "source": [
    "**How do combinations of different video game genres and developer company scale affect the discrepancy between aggregate user and critical reviews, and how does this discrepancy in turn impact the sales performance of these video games in different global markets?**"
   ]
  },
  {
   "cell_type": "markdown",
   "metadata": {},
   "source": [
    "## Background and Prior Work"
   ]
  },
  {
   "cell_type": "markdown",
   "metadata": {},
   "source": [
    "The gaming industry has seen tremendous growth over the past few decades, with a diverse selection of genres available to players all over the world. The reception of these games, both initial and long-term, which are reflected in user and critic reviews, along with their sales performance is of significant interest to the developers creating these games, as well as the gaming community which depends on many of these statistics to make their decisions on what to purchase or play. Understanding how these factors interact, particularly across different game genres, is in the best interest of developers and publishers aiming to align their products with market demands and player preferences. \n",
    "\n",
    "Regarding previous research work that has been performed in this domain, previous work has primarily been focused on analyzing the impact of reviews on sales. One particular study, a research study performed by Feray Adigüzel of Nottingham Trent University in September of 2021 suggests a strong correlation between positive reviews of games through formats such as YouTube videos, and to what extent these opinions shared with large audiences affect the sales of different games <a name=\"cite_ref-1\"></a>[<sup>1</sup>](#cite_note-1). Additionally, the project “Data Trends in Video Game Sales and Ratings” created by Casey Hoffman in 2021 <a name=\"cite_ref-2\"></a>[<sup>2</sup>](#cite_note-2) conducted an analysis of multiple research questions in the same space, most relevantly “Are user and critic ratings correlated, for different genres?” and “Do either user or critic ratings correlate with game sales?” Both of these questions address related questions to ours; however, they do not discuss our question: how do genre combinations affect the relationship between review scores and sales numbers?\n",
    "\n",
    "For some more context, research published by researchers from Illinois Wesleyan University <a name=\"cite_ref-3\"></a>[<sup>3</sup>](#cite_note-3) explored various determinants of video game software sales. While it didn't specifically discuss genre combinations, it laid a foundation for understanding consumer preferences and how they translate to sales, which could be instrumental in analyzing how genre combinations might sway consumer perceptions and sales. Similarly, a report by a researcher at Duke University in 2019 <a name=\"cite_ref-4\"></a>[<sup>4</sup>](#cite_note-4) aimed to identify factors influencing the success of video game sales. It provides a broad framework within which the impact of genre combinations could be analyzed, although it doesn’t specifically delve into genre combinations. This work could serve as a reference point for structuring a more focused investigation into how genre combinations affect sales performance​\n",
    "\n",
    "In terms of further analysis in this field, the insights derived from potential further research might be instrumental in guiding developers towards creating games that not only resonate with their target audience but also understand which characteristics tend to lead to commercial success while doing so. The discussed data shows how game genres, reviews, and sales are connected, but not much is found about how mixing genres affects these areas. Our analysis aims to fill this gap. We want to explore how combining genres impacts both user and critic reviews, and how this affects sales. Our analysis seeks to add a new angle to the existing information, helping to better understand how genre combinations work in the gaming market.\n",
    "\n",
    "<br />\n",
    "<br />\n",
    "\n",
    "1. <a name=\"cite_note-1\"></a> [^](#cite_ref-1) Adigűzel, Feray. (Sep. 2021) The Effect of YouTube Reviews on Video Game Sales. *ResearchGate*. https://www.researchgate.net/publication/353737385_The_Effect_of_YouTube_Reviews_on_Video_Game_Sales\n",
    "2. <a name=\"cite_note-2\"></a> [^](#cite_ref-2) Hoffman, Casey. (7 Feb. 2021) Data Trends in Video Game Sales and Ratings. *NYC Data Science Academy*. https://nycdatascience.com/blog/student-works/data-trends-in-video-game-sales-and-ratings/\n",
    "3. <a name=\"cite_note-3\"></a> [^](#cite_ref-3) Sacranie, John. (23 Apr. 2010) Consumer Perceptions & Video Game Sales: A Meeting of the Minds. *Illinois Wesleyan University*. https://digitalcommons.iwu.edu/econ_honproj/108\n",
    "4. <a name=\"cite_note-4\"></a> [^](#cite_ref-4) Soriano Pérez, Sebastián. (10 Dec. 2019) Analyzing Video Game Sales. *Duke University*. https://www.academia.edu/42255674/Analyzing_Video_Game_Sales\n"
   ]
  },
  {
   "cell_type": "markdown",
   "metadata": {},
   "source": [
    "# Hypothesis\n"
   ]
  },
  {
   "cell_type": "markdown",
   "metadata": {},
   "source": [
    "We predict that genre popularity (operationalized as the aggregate total of sales of titles within that particular genre) will generate an effect on the relationship between aggregate critical reviews and sales performance in the form of an increased correlation between review score and sales performance for more popular genres. \n",
    "\n",
    "This is based on our theory that video game titles with mass-market appeal will belong to certain genres wherein the critical reviews are more correlated to hypothesized commercial appeal rather than more niche genres where critics will only be interested in reviewing if they have a pre-existing interest in the genre, potentially diverging their reviews from sales.\n"
   ]
  },
  {
   "cell_type": "markdown",
   "metadata": {},
   "source": [
    "# Data"
   ]
  },
  {
   "cell_type": "markdown",
   "metadata": {},
   "source": [
    "Our ideal dataset that would be most relevant in answering our research question would be an integration of data from multiple relevant datasets ranging from some containing data from video game reviews, and some from video game reviews or demographics, or some from video game sales. The variables that we would be considering the most in our analysis would be the genre and subgenre categories of certain games, the ratings of games within these genres, the size of the developers that produce these games, and the sales or commercial performance of these different game categories over time. Ideally, this data would be collected by an unbiased source which takes into account all factors of reviews, and considers all different types of genres for games, as well as considers a variety of different games developed by varying sizes of game development companies. This data would also ideally not need much cleaning, and would consist og complete, relevant values, and would contain thousands of samples for us to consider to decrease any sort of variance in our analysis. \n",
    "\n",
    "From the datasets that we have already found that are relevant to the analysis we are attempting to complete, there are over 10,000+ observations in the most limited set of data, giving us an ample amount of data to begin building our analysis. This data has been collected previously by other developers who have created scripts to scrape reviews and sales data from popular sites such as Metacritic. This data is so far, in fact, somewhat different than our ideal, as it is limited in the information it provides for sales over time, or reviews over time, and instead provides general sales and general ratings, but it does provide genres and subgenres of games, developer companies, and user/critic reviews.  \\\n",
    "  \\\n",
    "  \\\n",
    "**Dataset Links:**  \\\n",
    "  \\\n",
    "[Video Game Sales with Ratings - Kaggle](https://www.kaggle.com/datasets/rush4ratio/video-game-sales-with-ratings)  \\\n",
    "  \\\n",
    "[Popular Video Games 1980 - 2023 - Kaggle](https://www.kaggle.com/datasets/arnabchaki/popular-video-games-1980-2023/data)\n"
   ]
  },
  {
   "cell_type": "markdown",
   "metadata": {},
   "source": [
    "# Ethics & Privacy"
   ]
  },
  {
   "cell_type": "markdown",
   "metadata": {},
   "source": [
    "- The data files that our group used are publicly available on Kaggle, which is a publicly accessible site.\n",
    "- For the games in question, players must sign end-user license agreements before playing.\n",
    "    - This measure establishes an agreement between the player and developer to ensure that the relative popularity of the game—for example, the number of downloads—is assessable and reviewers may translate it into a numerical score.\n",
    "- To expound on this fact, the potential bias that may have occurred when the data was collected includes the following:\n",
    "    - Customers who did not have a good experience with the video game are more likely to leave a review than those who had a good experience.\n",
    "    - More casual players may leave rational reviews comprehensive by the general public, while more frequent players of other genres may leave irrational reviews.\n",
    "    - Encountering other players’ reviews may have affected the players' review whether it is positive or negative.\n",
    "- Data variation may be unavoidable when analyzing data since that would lead to the collection of user-specific data which introduces privacy concerns.\n"
   ]
  },
  {
   "cell_type": "markdown",
   "metadata": {},
   "source": [
    "# Team Expectations "
   ]
  },
  {
   "cell_type": "markdown",
   "metadata": {},
   "source": [
    "* Each team member will be assigned a task to complete each week and will be expected to complete said task in a timely manner.\n",
    "* Team members should communicate with other members about their progress; it doesn’t have to be super often, just enough to where everybody knows what’s going on.\n",
    "* If a team member is unable to complete their assigned task, they should communicate to the rest of the team as early as possible so that everyone else can work to get the work done. \n",
    "* If a team member is being uncooperative, active efforts will be made to communicate this to them, such as a meeting, or written message in the form of email, text, etc, before communicating with the professor\n",
    "* Each team member will do their part in communicating if they have any roadblocks to the team\n",
    "* Each team member will be willing to extend help to other team members in times of struggle or confusion to accomplish the task at hand\n"
   ]
  }
 ],
 "metadata": {
  "kernelspec": {
   "display_name": "python3",
   "language": "python",
   "name": "python3"
  }
 },
 "nbformat": 4,
 "nbformat_minor": 2
}
